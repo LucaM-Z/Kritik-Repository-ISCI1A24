{
 "cells": [
  {
   "cell_type": "code",
   "execution_count": 1,
   "id": "8a19e7e2-2cae-4a66-8827-1722c2fd2c95",
   "metadata": {},
   "outputs": [
    {
     "name": "stdout",
     "output_type": "stream",
     "text": [
      "arctan_approx(-1) = Error!\n",
      "arctan_approx(0) = (0, 0, 0.0)\n",
      "arctan_approx(0.25) = (0.24498697916666665, 3, 8.719308035714285e-06)\n",
      "arctan_approx(0.5) = (0.46368427579365074, 5, 4.438920454545455e-05)\n",
      "arctan_approx(0.75) = (0.6435394700943785, 11, 5.816761029294689e-05)\n",
      "arctan_approx(1) = (0.7853481633979478, 5000, 9.999000099990002e-05)\n"
     ]
    }
   ],
   "source": [
    "def arctan_approx(x):\n",
    "    if x < 0 or x > 1:\n",
    "        return \"Error!\"\n",
    "    \n",
    "    approximation = 0\n",
    "    n = 0\n",
    "    error_bound = x / (2 * n + 1)  # Initial error bound\n",
    "    \n",
    "    while error_bound > 0.0001:\n",
    "        term = ((-1) ** n) * (x ** (2 * n + 1)) / (2 * n + 1)\n",
    "        approximation += term\n",
    "        n += 1\n",
    "        error_bound = (x ** (2 * n + 1)) / (2 * n + 1)  # Update error bound\n",
    "    \n",
    "    return (approximation, n, error_bound)\n",
    "\n",
    "# Testing the function\n",
    "inputs = [-1, 0, 0.25, 0.5, 0.75, 1]\n",
    "results = {x: arctan_approx(x) for x in inputs}\n",
    "for x, res in results.items():\n",
    "    print(f\"arctan_approx({x}) = {res}\")\n"
   ]
  },
  {
   "cell_type": "code",
   "execution_count": null,
   "id": "9c0fcd29-84c1-4093-a94f-84e5fe163d01",
   "metadata": {},
   "outputs": [],
   "source": []
  }
 ],
 "metadata": {
  "kernelspec": {
   "display_name": "Python 3 (ipykernel)",
   "language": "python",
   "name": "python3"
  },
  "language_info": {
   "codemirror_mode": {
    "name": "ipython",
    "version": 3
   },
   "file_extension": ".py",
   "mimetype": "text/x-python",
   "name": "python",
   "nbconvert_exporter": "python",
   "pygments_lexer": "ipython3",
   "version": "3.12.8"
  }
 },
 "nbformat": 4,
 "nbformat_minor": 5
}
