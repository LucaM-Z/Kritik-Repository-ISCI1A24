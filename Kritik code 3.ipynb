{
 "cells": [
  {
   "cell_type": "code",
   "execution_count": 15,
   "id": "83928206-9ac5-41f8-bc52-0b95af911cb3",
   "metadata": {},
   "outputs": [
    {
     "name": "stdout",
     "output_type": "stream",
     "text": [
      "Test Case: f(x) = x^2\n",
      "Parameters: c = 1, E = 0.1\n",
      "Result: x1 and x2 = Unable to find suitable values for x1 and x2 within the search bounds.\n",
      "----------------------------------------\n",
      "Test Case: f(x) = sin(x)\n",
      "Parameters: c = 0.7853981633974483, E = 0.05\n",
      "Result: x1 and x2 = Unable to find suitable values for x1 and x2 within the search bounds.\n",
      "----------------------------------------\n",
      "Test Case: f(x) = exp(x)\n",
      "Parameters: c = 0, E = 0.01\n",
      "Result: x1 and x2 = Unable to find suitable values for x1 and x2 within the search bounds.\n",
      "----------------------------------------\n",
      "Test Case: f(x) = x^3\n",
      "Parameters: c = 2, E = 0.5\n",
      "Result: x1 and x2 = Unable to find suitable values for x1 and x2 within the search bounds.\n",
      "----------------------------------------\n"
     ]
    },
    {
     "name": "stderr",
     "output_type": "stream",
     "text": [
      "/tmp/ipykernel_696/3224224031.py:16: RuntimeWarning: divide by zero encountered in log\n",
      "  return abs(f(x) - linear_function(f, approx_derivative, c, x)) - error_tolerance\n",
      "/tmp/ipykernel_696/3224224031.py:16: RuntimeWarning: invalid value encountered in log\n",
      "  return abs(f(x) - linear_function(f, approx_derivative, c, x)) - error_tolerance\n"
     ]
    },
    {
     "name": "stdout",
     "output_type": "stream",
     "text": [
      "Test Case: f(x) = ln(x)\n",
      "Parameters: c = 1, E = 0.02\n",
      "Result: x1 and x2 = Unable to find suitable values for x1 and x2 within the search bounds.\n",
      "----------------------------------------\n"
     ]
    }
   ],
   "source": [
    "import numpy as np\n",
    "\n",
    "def approximate_derivative(f, c, delta=1e-8):\n",
    "    \"\"\"Approximate the derivative of f at c using central difference method.\"\"\"\n",
    "    return (f(c + delta) - f(c - delta)) / (2 * delta)\n",
    "\n",
    "def linear_function(f, f_derivative, c, x):\n",
    "    \"\"\"Compute the linear approximation of f at x around point c.\"\"\"\n",
    "    return f(c) + f_derivative * (x - c)\n",
    "\n",
    "def find_nearest_points(f, c, error_tolerance, delta=1e-8, max_steps=10000, step_size=10):\n",
    "    \"\"\"Find x1 and x2 such that |f(x) - L(x)| = error_tolerance.\"\"\"\n",
    "    approx_derivative = approximate_derivative(f, c, delta)\n",
    "    \n",
    "    def absolute_error(x):\n",
    "        return abs(f(x) - linear_function(f, approx_derivative, c, x)) - error_tolerance\n",
    "\n",
    "    x1, x2 = None, None\n",
    "\n",
    "    # Search for x1 (x1 < c)\n",
    "    for step in range(1, max_steps + 1):\n",
    "        candidate_x1 = c - step * (step_size / max_steps)\n",
    "        if np.isclose(absolute_error(candidate_x1), 0, atol=1e-8):\n",
    "            x1 = candidate_x1\n",
    "            break\n",
    "\n",
    "    # Search for x2 (x2 > c)\n",
    "    for step in range(1, max_steps + 1):\n",
    "        candidate_x2 = c + step * (step_size / max_steps)\n",
    "        if np.isclose(absolute_error(candidate_x2), 0, atol=1e-8):\n",
    "            x2 = candidate_x2\n",
    "            break\n",
    "\n",
    "    if x1 is None or x2 is None:\n",
    "        return \"Unable to find suitable values for x1 and x2 within the search bounds.\"\n",
    "\n",
    "    return x1, x2\n",
    "\n",
    "def run_test_cases():\n",
    "    \"\"\"Run predefined test cases.\"\"\"\n",
    "    test_scenarios = [\n",
    "        {\"func\": lambda x: x**2, \"c\": 1, \"E\": 0.1, \"label\": \"f(x) = x^2\"},\n",
    "        {\"func\": np.sin, \"c\": np.pi / 4, \"E\": 0.05, \"label\": \"f(x) = sin(x)\"},\n",
    "        {\"func\": np.exp, \"c\": 0, \"E\": 0.01, \"label\": \"f(x) = exp(x)\"},\n",
    "        {\"func\": lambda x: x**3, \"c\": 2, \"E\": 0.5, \"label\": \"f(x) = x^3\"},\n",
    "        {\"func\": np.log, \"c\": 1, \"E\": 0.02, \"label\": \"f(x) = ln(x)\"},\n",
    "    ]\n",
    "\n",
    "    for scenario in test_scenarios:\n",
    "        f = scenario[\"func\"]\n",
    "        c = scenario[\"c\"]\n",
    "        E = scenario[\"E\"]\n",
    "        label = scenario[\"label\"]\n",
    "\n",
    "        result = find_nearest_points(f, c, E)\n",
    "        print(f\"Test Case: {label}\")\n",
    "        print(f\"Parameters: c = {c}, E = {E}\")\n",
    "        print(f\"Result: x1 and x2 = {result}\")\n",
    "        print(\"-\" * 40)\n",
    "\n",
    "# Run the test cases\n",
    "run_test_cases()"
   ]
  },
  {
   "cell_type": "code",
   "execution_count": null,
   "id": "63461cc2-2886-483b-9ed7-f64830ab6c4e",
   "metadata": {},
   "outputs": [],
   "source": []
  },
  {
   "cell_type": "code",
   "execution_count": null,
   "id": "70193a50-cb0c-4d5b-a062-20030f1d8f30",
   "metadata": {},
   "outputs": [],
   "source": []
  },
  {
   "cell_type": "code",
   "execution_count": null,
   "id": "69004499-7dfc-414d-a0d3-8d97e03135e3",
   "metadata": {},
   "outputs": [],
   "source": []
  }
 ],
 "metadata": {
  "kernelspec": {
   "display_name": "Python 3 (ipykernel)",
   "language": "python",
   "name": "python3"
  },
  "language_info": {
   "codemirror_mode": {
    "name": "ipython",
    "version": 3
   },
   "file_extension": ".py",
   "mimetype": "text/x-python",
   "name": "python",
   "nbconvert_exporter": "python",
   "pygments_lexer": "ipython3",
   "version": "3.11.9"
  }
 },
 "nbformat": 4,
 "nbformat_minor": 5
}
